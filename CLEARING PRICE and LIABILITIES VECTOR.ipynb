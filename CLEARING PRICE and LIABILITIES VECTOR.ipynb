{
 "cells": [
  {
   "cell_type": "markdown",
   "metadata": {},
   "source": [
    "# 1. Finding Clearing liability Payment Vector\n"
   ]
  },
  {
   "cell_type": "code",
   "execution_count": 54,
   "metadata": {},
   "outputs": [],
   "source": [
    "import numpy as np"
   ]
  },
  {
   "cell_type": "markdown",
   "metadata": {},
   "source": [
    "let us consider four banks,which are interconnected to each other at T=0 through liabilities, then at time T=1 banks has to clear their obligation which they owes to each other.\n",
    "Let Liability Matrix of banks is given by :"
   ]
  },
  {
   "cell_type": "code",
   "execution_count": 55,
   "metadata": {},
   "outputs": [
    {
     "name": "stdout",
     "output_type": "stream",
     "text": [
      "liabiity matrix of banks is : [[0, 7, 1, 1], [3, 0, 3, 3], [1, 1, 0, 1], [1, 1, 1, 0]]\n"
     ]
    }
   ],
   "source": [
    "liability_matrix= [[0,7,1,1],[3,0,3,3],[1,1,0,1],[1,1,1,0]]\n",
    "print(\"liabiity matrix of banks is :\", liability_matrix)"
   ]
  },
  {
   "cell_type": "markdown",
   "metadata": {},
   "source": [
    "Then fractional liability matrix is given by :"
   ]
  },
  {
   "cell_type": "code",
   "execution_count": 61,
   "metadata": {},
   "outputs": [
    {
     "name": "stdout",
     "output_type": "stream",
     "text": [
      "Fractional liabilities of banks is given by: \n",
      " [[0.         0.77777778 0.11111111 0.11111111]\n",
      " [0.33333333 0.         0.33333333 0.33333333]\n",
      " [0.33333333 0.33333333 0.         0.33333333]\n",
      " [0.33333333 0.33333333 0.33333333 0.        ]]\n"
     ]
    }
   ],
   "source": [
    "fractional_liability_matrix_sum= np.sum(liability_matrix, axis=1, keepdims=True)\n",
    "fractional_liability_matrix = liability_matrix / fractional_liability_matrix_sum\n",
    "print(\"Fractional liabilities of banks is given by: \\n\",fractional_liability_matrix)\n"
   ]
  },
  {
   "cell_type": "code",
   "execution_count": 57,
   "metadata": {},
   "outputs": [],
   "source": [
    "initial_p1 = 9\n",
    "initial_p2 = 9\n",
    "initial_p3 = 3\n",
    "initial_p4 = 3\n",
    "clearing_payment_vector = [initial_p1 ,initial_p2 , initial_p3, initial_p4]"
   ]
  },
  {
   "cell_type": "markdown",
   "metadata": {},
   "source": [
    "#Running iteration for 100 times and then calculating payment liabilty vector for each banks. "
   ]
  },
  {
   "cell_type": "code",
   "execution_count": 58,
   "metadata": {},
   "outputs": [
    {
     "name": "stdout",
     "output_type": "stream",
     "text": [
      "CLEARING PAYMENT VECTOR OF BANK 1, 2, 3 and 4 is  [3.6, 4.800000000000001, array([3]), array([3])] respectively\n"
     ]
    }
   ],
   "source": [
    "for j in range(100):\n",
    "    CLEARING_VECTOR=[]\n",
    "    for i in range(4):\n",
    "        clearing_payment =(min(np.sum(fractional_liability_matrix[:,i]*clearing_payment_vector),fractional_liability_matrix_sum[i]))\n",
    "        if clearing_payment == clearing_payment_vector[i]:\n",
    "            clearing_payment_vector[i] = clearing_payment_vector[i]\n",
    "            CLEARING_VECTOR.append(clearing_payment_vector[i])\n",
    "        else :\n",
    "            clearing_payment_vector[i] = clearing_payment\n",
    "            CLEARING_VECTOR.append(clearing_payment)\n",
    "print(\"CLEARING PAYMENT VECTOR OF BANK 1, 2, 3 and 4 is \",CLEARING_VECTOR,\"respectively\")\n"
   ]
  },
  {
   "cell_type": "markdown",
   "metadata": {},
   "source": [
    "# Clearing liability payment which is obtain above is unique.\n",
    "\n",
    "### but this clearing liability payment vector depends upon initial or starting value."
   ]
  },
  {
   "cell_type": "markdown",
   "metadata": {},
   "source": [
    "# 2. Finding Clearing Price of Illiquid Assets."
   ]
  },
  {
   "cell_type": "markdown",
   "metadata": {},
   "source": [
    "Justification whether the calculated Clearing payment vector is correct or not."
   ]
  },
  {
   "cell_type": "code",
   "execution_count": 50,
   "metadata": {},
   "outputs": [
    {
     "name": "stdout",
     "output_type": "stream",
     "text": [
      "Clearing Balance of bank  [1] : [3.6]\n",
      "Clearing Balance of bank  [2] : [4.8]\n",
      "Clearing Balance of bank  [3] : [3.]\n",
      "Clearing Balance of bank  [4] : [3.]\n"
     ]
    }
   ],
   "source": [
    "for i in range(4):\n",
    "    clear_balance_bank=[]\n",
    "    for i in range(4):\n",
    "        clear_balance = fractional_liability_matrix[i]* CLEARING_VECTOR[i]\n",
    "        clear_balance= np.sum(clear_balance, axis = 0, keepdims = True)\n",
    "        clear_balance_bank.append(clear_balance)\n",
    "for i in range(4):\n",
    "    print(\"Clearing Balance of bank \",[i+1], \":\",clear_balance_bank[i])\n",
    "    \n",
    "    "
   ]
  },
  {
   "cell_type": "markdown",
   "metadata": {},
   "source": [
    "total liability of bank 1 is  9 , \n",
    "total liability of bank 2 is  9 ,\n",
    "total liability of bank 3 is  3 , \n",
    "total liability of bank 4 is  3 ,"
   ]
  },
  {
   "cell_type": "markdown",
   "metadata": {},
   "source": [
    "Equity is thus calculated by Assets - Liabilities, thus net balance of each bank is :\n"
   ]
  },
  {
   "cell_type": "code",
   "execution_count": 51,
   "metadata": {},
   "outputs": [
    {
     "name": "stdout",
     "output_type": "stream",
     "text": [
      "Equity of bank : [array([-5.4]), array([-4.2]), array([0.]), array([0.])]\n"
     ]
    }
   ],
   "source": [
    "net_balance_bank=[]\n",
    "for i in range(4):\n",
    "    net_balance = clear_balance_bank[i] - fractional_liability_matrix_sum[i]\n",
    "    net_balance_bank.append(net_balance)\n",
    "print(\"Equity of bank\",\":\",net_balance_bank)"
   ]
  },
  {
   "cell_type": "markdown",
   "metadata": {},
   "source": [
    "* negative sign denotes bank suffer from shortfall (i.e they are not able to pay its liabilities) thus to avoid default bank will undergoes force liquation of illiquid assets at distressed price.If liquation of illiquid assets willnot take pace then maturity amount from illiquid assets at T =1 is P. Let us assume P =20"
   ]
  },
  {
   "cell_type": "code",
   "execution_count": 52,
   "metadata": {},
   "outputs": [
    {
     "name": "stdout",
     "output_type": "stream",
     "text": [
      "CLearing price of illiquid assets is : [0, array([2.1]), 20, 20]\n"
     ]
    }
   ],
   "source": [
    "illiquid_assets=[0,2,2,2]\n",
    "maturity = P = 20\n",
    "Clearing_price=[]\n",
    "for i in range(4):\n",
    "    if (net_balance_bank[i] < 0 and illiquid_assets[i] > 0):\n",
    "        price_assets = - net_balance_bank[i]/illiquid_assets[i]\n",
    "        Clearing_price.append(price_assets)\n",
    "    elif (net_balance_bank[i] < 0 and illiquid_assets[i] == 0):\n",
    "        Clearing_price.append(0)\n",
    "    else:\n",
    "        Clearing_price.append(maturity)\n",
    "print(\"CLearing price of illiquid assets is :\", Clearing_price)"
   ]
  },
  {
   "cell_type": "markdown",
   "metadata": {},
   "source": [
    "* from above it is clear that if the price of illiquid assets at time of pre-mature liquidation is 2.1 then by selling all the 2 units , Bank 2 will recover from default."
   ]
  },
  {
   "cell_type": "markdown",
   "metadata": {},
   "source": [
    "\n",
    "# 3. Apply Full Netting in order to reduce Systemic Risk."
   ]
  },
  {
   "cell_type": "markdown",
   "metadata": {},
   "source": [
    "By applying netting, net clearance amount is to be paid to central counter party (CCP) thus it can reduces systemic risk.\n",
    "Net clearance amount which is to be paid is given by Net_money_to_CCP"
   ]
  },
  {
   "cell_type": "code",
   "execution_count": 59,
   "metadata": {},
   "outputs": [
    {
     "name": "stdout",
     "output_type": "stream",
     "text": [
      "Net Clearance amount to be paid by bank to CCP is given by : [array([4]), array([0]), array([-2]), array([-2])]\n"
     ]
    }
   ],
   "source": [
    "fractional_liability_matrix_sum\n",
    "money_from_other_banks = np.sum(liability_matrix,  axis =0 , keepdims =True)\n",
    "net_money_to_CCP=[]\n",
    "for i in range(4):\n",
    "    net_money_CCP = fractional_liability_matrix_sum[i] - money_from_other_banks[0][i]\n",
    "    net_money_to_CCP.append(net_money_CCP)\n",
    "print(\"Net Clearance amount to be paid by bank to CCP is given by :\",net_money_to_CCP)"
   ]
  },
  {
   "cell_type": "markdown",
   "metadata": {},
   "source": [
    "By appling "
   ]
  }
 ],
 "metadata": {
  "kernelspec": {
   "display_name": "Python 3",
   "language": "python",
   "name": "python3"
  },
  "language_info": {
   "codemirror_mode": {
    "name": "ipython",
    "version": 3
   },
   "file_extension": ".py",
   "mimetype": "text/x-python",
   "name": "python",
   "nbconvert_exporter": "python",
   "pygments_lexer": "ipython3",
   "version": "3.6.5"
  }
 },
 "nbformat": 4,
 "nbformat_minor": 2
}
